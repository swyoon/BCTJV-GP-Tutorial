{
 "cells": [
  {
   "cell_type": "code",
   "execution_count": null,
   "metadata": {
    "collapsed": true
   },
   "outputs": [],
   "source": [
    "import numpy as np\n",
    "import matplotlib.pyplot as plt\n",
    "% matplotlib inline\n",
    "import GPy\n",
    "from sklearn.model_selection import train_test_split\n",
    "from sklearn.datasets import load_boston\n",
    "from ipywidgets import interact"
   ]
  },
  {
   "cell_type": "code",
   "execution_count": null,
   "metadata": {
    "collapsed": false
   },
   "outputs": [],
   "source": [
    "'''load datasets 1: toy'''\n",
    "N = 100  # train + test\n",
    "noise_std = 0.05\n",
    "true_f = lambda xx: xx*np.sin(xx*10.)  # true underlying function\n",
    "\n",
    "toy_vis_x = np.linspace(0,1,100).reshape((-1,1))\n",
    "toy_vis_y = true_f(toy_vis_x)\n",
    "X = np.random.rand(N,1)\n",
    "Y = true_f(X) + noise_std * np.random.randn(X.shape[0]).reshape((-1,1))  # with additive noise\n",
    "toy_train_x, toy_test_x, toy_train_y, toy_test_y = train_test_split(X, Y, test_size=0.8)\n",
    "\n",
    "\n",
    "'''laod datasets 2: Boston'''\n",
    "boston = load_boston()\n",
    "bo_train_x, bo_test_x, bo_train_y, bo_test_y = train_test_split(boston.data, boston.target, test_size=0.4)"
   ]
  },
  {
   "cell_type": "code",
   "execution_count": null,
   "metadata": {
    "collapsed": true
   },
   "outputs": [],
   "source": [
    "print toy_train-"
   ]
  },
  {
   "cell_type": "markdown",
   "metadata": {},
   "source": [
    "# Toy Example : GP vs GB"
   ]
  },
  {
   "cell_type": "code",
   "execution_count": null,
   "metadata": {
    "collapsed": false
   },
   "outputs": [],
   "source": [
    "toy_train_x.shape\n",
    "toy_train_y.shape"
   ]
  },
  {
   "cell_type": "code",
   "execution_count": null,
   "metadata": {
    "collapsed": false,
    "scrolled": false
   },
   "outputs": [],
   "source": [
    "plt.plot(toy_vis_x, toy_vis_y)\n",
    "plt.plot(toy_train_x, toy_train_y, 'k+', markersize=11)"
   ]
  },
  {
   "cell_type": "code",
   "execution_count": null,
   "metadata": {
    "collapsed": false
   },
   "outputs": [],
   "source": [
    "kernel = GPy.kern.RBF(input_dim=1, variance=1., lengthscale=1.)\n",
    "m = GPy.models.GPRegression(toy_train_x, toy_train_y, kernel)\n",
    "m.optimize(messages=True)\n",
    "print m.kern.lengthscale\n",
    "print m.kern.variance\n",
    "print m.Gaussian_noise.gaussian_variance\n",
    "mu_f, var_f  = m.predict(toy_vis_x)"
   ]
  },
  {
   "cell_type": "code",
   "execution_count": null,
   "metadata": {
    "collapsed": false
   },
   "outputs": [],
   "source": [
    "from sklearn.ensemble import GradientBoostingRegressor\n",
    "from sklearn.model_selection import GridSearchCV\n",
    "gbr = GridSearchCV(GradientBoostingRegressor(), {'n_estimators':[10,50,100,200]}, cv=5)\n",
    "gbr.fit(toy_train_x, toy_train_y)\n",
    "gbr_f = gbr.predict(toy_vis_x)"
   ]
  },
  {
   "cell_type": "code",
   "execution_count": null,
   "metadata": {
    "collapsed": false
   },
   "outputs": [],
   "source": [
    "plt.plot(toy_vis_x, toy_vis_y)\n",
    "plt.plot(toy_vis_x, mu_f, label='Gaussian Process')\n",
    "plt.plot(toy_vis_x, gbr_f, label='Gradient Boosting')\n",
    "plt.plot(toy_train_x, toy_train_y, 'k+', markersize=11)\n",
    "plt.legend(loc='best')"
   ]
  },
  {
   "cell_type": "markdown",
   "metadata": {},
   "source": [
    "# The Effect of Hyperparameters"
   ]
  },
  {
   "cell_type": "code",
   "execution_count": null,
   "metadata": {
    "collapsed": false
   },
   "outputs": [],
   "source": [
    "@interact(leng=(0.1,1.,0.05), var=(0.1,1,0.05), noise=(0.001,0.1,0.005))\n",
    "def vis(leng, var, noise):\n",
    "    kernel = GPy.kern.RBF(input_dim=1, variance=var, lengthscale=leng)\n",
    "    m = GPy.models.GPRegression(toy_train_x, toy_train_y, kernel)\n",
    "    m.Gaussian_noise.fix(noise)\n",
    "    \n",
    "    print m.kern.lengthscale\n",
    "    print m.kern.variance\n",
    "    print m.Gaussian_noise.gaussian_variance\n",
    "    mu_f, var_f  = m.predict(toy_vis_x)\n",
    "    plt.plot(toy_vis_x, toy_vis_y, label='true')\n",
    "    plt.plot(toy_train_x, toy_train_y, 'k+', markersize=11)\n",
    "    plt.plot(toy_vis_x, mu_f, label='GPR')\n",
    "    plt.legend(loc='best')"
   ]
  }
 ],
 "metadata": {
  "kernelspec": {
   "display_name": "Python 2",
   "language": "python",
   "name": "python2"
  },
  "language_info": {
   "codemirror_mode": {
    "name": "ipython",
    "version": 2
   },
   "file_extension": ".py",
   "mimetype": "text/x-python",
   "name": "python",
   "nbconvert_exporter": "python",
   "pygments_lexer": "ipython2",
   "version": "2.7.11"
  },
  "widgets": {
   "state": {
    "54629b0025ff4f3fa8af6f19835178cd": {
     "views": [
      {
       "cell_index": 6
      }
     ]
    },
    "bbdc3be8d0a14e36b30d0d6161de9bd1": {
     "views": [
      {
       "cell_index": 10
      }
     ]
    }
   },
   "version": "1.2.0"
  }
 },
 "nbformat": 4,
 "nbformat_minor": 2
}
